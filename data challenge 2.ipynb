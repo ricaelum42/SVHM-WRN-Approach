{
 "cells": [
  {
   "cell_type": "code",
   "execution_count": 7,
   "metadata": {},
   "outputs": [],
   "source": [
    "# Basic Imports\n",
    "import numpy as np\n",
    "#import h5py as h5"
   ]
  },
  {
   "cell_type": "code",
   "execution_count": 8,
   "metadata": {},
   "outputs": [],
   "source": [
    "from scipy.io import loadmat\n",
    "train = loadmat(\"train.mat\")\n",
    "test = loadmat(\"test.mat\")\n",
    "X_train = train['X']\n",
    "y_train = train['y']\n",
    "X_test = test['X']"
   ]
  },
  {
   "cell_type": "code",
   "execution_count": 19,
   "metadata": {},
   "outputs": [],
   "source": [
    "act = loadmat(\"test_32x32.mat\")\n",
    "X_act = act['X']"
   ]
  },
  {
   "cell_type": "code",
   "execution_count": 22,
   "metadata": {},
   "outputs": [
    {
     "data": {
      "text/plain": [
       "0"
      ]
     },
     "execution_count": 22,
     "metadata": {},
     "output_type": "execute_result"
    }
   ],
   "source": [
    "np.sum((X_act == X_test)==False)"
   ]
  },
  {
   "cell_type": "code",
   "execution_count": 17,
   "metadata": {},
   "outputs": [
    {
     "data": {
      "text/plain": [
       "array([[[[ 38, 129, 150, ..., 115,  96, 101],\n",
       "         [103, 142, 160, ..., 132,  65,  75],\n",
       "         [ 60, 153, 169, ..., 142,  47,  60]],\n",
       "\n",
       "        [[ 39, 127, 150, ..., 116,  97, 100],\n",
       "         [104, 143, 163, ..., 133,  65,  73],\n",
       "         [ 61, 152, 170, ..., 143,  49,  60]],\n",
       "\n",
       "        [[ 39, 125, 152, ..., 117,  97,  99],\n",
       "         [104, 143, 168, ..., 134,  65,  71],\n",
       "         [ 62, 151, 172, ..., 144,  50,  59]],\n",
       "\n",
       "        ..., \n",
       "        [[ 41, 121, 153, ..., 114,  86,  95],\n",
       "         [102, 133, 172, ..., 136,  61,  63],\n",
       "         [ 61, 153, 180, ..., 141,  54,  52]],\n",
       "\n",
       "        [[ 42, 123, 150, ..., 114,  87,  95],\n",
       "         [103, 134, 171, ..., 136,  62,  63],\n",
       "         [ 62, 156, 181, ..., 142,  55,  52]],\n",
       "\n",
       "        [[ 39, 123, 147, ..., 115,  88,  96],\n",
       "         [ 97, 135, 169, ..., 136,  63,  64],\n",
       "         [ 57, 157, 180, ..., 143,  56,  51]]],\n",
       "\n",
       "\n",
       "       [[[ 39, 134, 150, ..., 122,  96, 109],\n",
       "         [104, 150, 160, ..., 139,  65,  84],\n",
       "         [ 61, 160, 169, ..., 148,  48,  69]],\n",
       "\n",
       "        [[ 39, 133, 151, ..., 123,  97, 107],\n",
       "         [104, 149, 163, ..., 140,  65,  80],\n",
       "         [ 61, 158, 169, ..., 149,  50,  67]],\n",
       "\n",
       "        [[ 39, 132, 153, ..., 124,  97, 104],\n",
       "         [104, 149, 168, ..., 141,  65,  76],\n",
       "         [ 62, 157, 171, ..., 150,  51,  64]],\n",
       "\n",
       "        ..., \n",
       "        [[ 41, 127, 156, ..., 118,  85,  95],\n",
       "         [102, 138, 174, ..., 139,  62,  62],\n",
       "         [ 61, 157, 180, ..., 143,  53,  53]],\n",
       "\n",
       "        [[ 43, 126, 153, ..., 118,  87,  93],\n",
       "         [101, 137, 171, ..., 139,  63,  61],\n",
       "         [ 63, 157, 180, ..., 145,  54,  50]],\n",
       "\n",
       "        [[ 39, 125, 150, ..., 119,  88,  93],\n",
       "         [ 97, 137, 169, ..., 139,  64,  61],\n",
       "         [ 57, 158, 179, ..., 146,  55,  49]]],\n",
       "\n",
       "\n",
       "       [[[ 38, 141, 144, ..., 131,  96, 117],\n",
       "         [105, 158, 154, ..., 148,  64,  95],\n",
       "         [ 62, 168, 163, ..., 155,  49,  78]],\n",
       "\n",
       "        [[ 37, 140, 146, ..., 132,  96, 114],\n",
       "         [104, 157, 157, ..., 149,  64,  90],\n",
       "         [ 61, 166, 163, ..., 156,  50,  75]],\n",
       "\n",
       "        [[ 39, 140, 148, ..., 133,  96, 108],\n",
       "         [106, 157, 162, ..., 149,  64,  83],\n",
       "         [ 63, 165, 165, ..., 157,  51,  70]],\n",
       "\n",
       "        ..., \n",
       "        [[ 43, 135, 157, ..., 125,  87,  95],\n",
       "         [101, 147, 172, ..., 143,  66,  62],\n",
       "         [ 63, 163, 177, ..., 147,  54,  53]],\n",
       "\n",
       "        [[ 43, 132, 153, ..., 125,  90,  92],\n",
       "         [100, 143, 168, ..., 143,  68,  60],\n",
       "         [ 64, 161, 175, ..., 149,  57,  50]],\n",
       "\n",
       "        [[ 39, 130, 150, ..., 126,  91,  91],\n",
       "         [ 97, 141, 165, ..., 144,  69,  59],\n",
       "         [ 59, 160, 173, ..., 150,  58,  48]]],\n",
       "\n",
       "\n",
       "       ..., \n",
       "       [[[ 52, 147, 135, ...,  94,  99, 116],\n",
       "         [119, 161, 150, ...,  97,  68,  96],\n",
       "         [ 78, 174, 167, ..., 114,  48,  85]],\n",
       "\n",
       "        [[ 53, 142, 134, ...,  93,  99, 116],\n",
       "         [120, 156, 149, ...,  96,  70,  96],\n",
       "         [ 79, 169, 166, ..., 113,  50,  87]],\n",
       "\n",
       "        [[ 51, 136, 132, ...,  92, 100, 115],\n",
       "         [118, 151, 147, ...,  95,  73,  95],\n",
       "         [ 77, 163, 165, ..., 112,  53,  87]],\n",
       "\n",
       "        ..., \n",
       "        [[ 44,  93, 124, ..., 140, 138, 101],\n",
       "         [118,  97, 140, ..., 153, 121,  70],\n",
       "         [ 69, 126, 157, ..., 162, 105,  50]],\n",
       "\n",
       "        [[ 44,  96, 122, ..., 142, 127, 101],\n",
       "         [117, 100, 139, ..., 155, 109,  70],\n",
       "         [ 71, 128, 157, ..., 164,  93,  50]],\n",
       "\n",
       "        [[ 41, 104, 121, ..., 144, 117, 101],\n",
       "         [114, 109, 138, ..., 157,  98,  70],\n",
       "         [ 69, 136, 158, ..., 165,  83,  50]]],\n",
       "\n",
       "\n",
       "       [[[ 50, 138, 147, ..., 117,  98, 104],\n",
       "         [117, 152, 165, ..., 122,  67,  83],\n",
       "         [ 76, 165, 179, ..., 137,  46,  71]],\n",
       "\n",
       "        [[ 51, 130, 147, ..., 117,  99, 105],\n",
       "         [118, 144, 164, ..., 122,  70,  84],\n",
       "         [ 77, 157, 179, ..., 137,  48,  73]],\n",
       "\n",
       "        [[ 49, 121, 147, ..., 118, 100, 105],\n",
       "         [116, 136, 164, ..., 123,  73,  84],\n",
       "         [ 75, 148, 179, ..., 137,  51,  74]],\n",
       "\n",
       "        ..., \n",
       "        [[ 44,  93, 139, ..., 141, 126, 101],\n",
       "         [117,  99, 155, ..., 154, 108,  70],\n",
       "         [ 71, 128, 170, ..., 163,  92,  49]],\n",
       "\n",
       "        [[ 45, 101, 139, ..., 143, 118, 102],\n",
       "         [116, 107, 155, ..., 156,  99,  71],\n",
       "         [ 72, 134, 170, ..., 164,  83,  50]],\n",
       "\n",
       "        [[ 42, 112, 138, ..., 144, 110, 102],\n",
       "         [113, 118, 155, ..., 157,  91,  71],\n",
       "         [ 69, 144, 171, ..., 165,  75,  50]]],\n",
       "\n",
       "\n",
       "       [[[ 48, 131, 159, ..., 132,  97,  95],\n",
       "         [115, 145, 177, ..., 138,  66,  73],\n",
       "         [ 74, 158, 189, ..., 152,  45,  62]],\n",
       "\n",
       "        [[ 48, 122, 159, ..., 133,  99,  96],\n",
       "         [115, 136, 177, ..., 140,  69,  74],\n",
       "         [ 74, 149, 190, ..., 152,  48,  63]],\n",
       "\n",
       "        [[ 46, 111, 159, ..., 135, 100,  97],\n",
       "         [113, 126, 177, ..., 142,  72,  75],\n",
       "         [ 72, 139, 191, ..., 153,  51,  64]],\n",
       "\n",
       "        ..., \n",
       "        [[ 43, 101, 152, ..., 142, 118, 101],\n",
       "         [116, 108, 168, ..., 155,  99,  70],\n",
       "         [ 71, 135, 181, ..., 164,  82,  49]],\n",
       "\n",
       "        [[ 44, 111, 152, ..., 143, 111, 102],\n",
       "         [115, 118, 168, ..., 156,  92,  71],\n",
       "         [ 71, 144, 182, ..., 165,  74,  50]],\n",
       "\n",
       "        [[ 42, 123, 152, ..., 144, 104, 102],\n",
       "         [113, 130, 168, ..., 157,  85,  71],\n",
       "         [ 71, 156, 183, ..., 165,  68,  50]]]], dtype=uint8)"
      ]
     },
     "execution_count": 17,
     "metadata": {},
     "output_type": "execute_result"
    }
   ],
   "source": [
    "X_test"
   ]
  },
  {
   "cell_type": "code",
   "execution_count": 15,
   "metadata": {},
   "outputs": [],
   "source": [
    "X_train = X_train.reshape(X_train.shape[0]*X_train.shape[1]*X_train.shape[2],X_train.shape[3]).T\n",
    "y_train = y_train.reshape(y_train.shape[0],)\n",
    "X_test = X_test.reshape(X_test.shape[0]*X_test.shape[1]*X_test.shape[2],X_test.shape[3]).T"
   ]
  },
  {
   "cell_type": "code",
   "execution_count": 12,
   "metadata": {},
   "outputs": [],
   "source": [
    "from sklearn.linear_model import LogisticRegression\n",
    "from sklearn.svm import SVR\n",
    "from sklearn.ensemble import RandomForestClassifier\n",
    "from sklearn.discriminant_analysis import QuadraticDiscriminantAnalysis\n",
    "from sklearn.discriminant_analysis import LinearDiscriminantAnalysis\n",
    "from sklearn.svm import SVC\n",
    "from sklearn.linear_model import ElasticNet\n",
    "from sklearn.linear_model import SGDClassifier\n",
    "from sklearn.ensemble import RandomForestClassifier\n",
    "from sklearn.naive_bayes import GaussianNB\n",
    "from sklearn.ensemble import VotingClassifier\n",
    "from sklearn.ensemble import AdaBoostClassifier\n",
    "from sklearn.tree import DecisionTreeClassifier\n",
    "from sklearn.ensemble import GradientBoostingClassifier\n",
    "#from xgboost import XGBClassifier\n",
    "from sklearn.neural_network import MLPClassifier"
   ]
  },
  {
   "cell_type": "code",
   "execution_count": null,
   "metadata": {},
   "outputs": [],
   "source": [
    "model_clf = MLPClassifier(base_estimator=DecisionTreeClassifier(max_depth=3))\n",
    "hyper_params = {'hidden_layer_sizes':[100, 200, 300, 400], 'learning_rate_init':[0.001, 0.01, 1.]}\n",
    "clf = grid_search.GridSearchCV(model_clf, hyper_params,cv=3,verbose=2)"
   ]
  },
  {
   "cell_type": "code",
   "execution_count": 17,
   "metadata": {},
   "outputs": [
    {
     "data": {
      "text/plain": [
       "array([0.18922237, 0.1889753 , 0.18913755, 0.18913755, 0.18927402,\n",
       "       0.19017065, 0.18921502, 0.18926669, 0.1893184 , 0.18934426])"
      ]
     },
     "execution_count": 17,
     "metadata": {},
     "output_type": "execute_result"
    }
   ],
   "source": [
    "from sklearn.model_selection import cross_val_score\n",
    "clf = MLPClassifier(hidden_layer_sizes = 400)\n",
    "cross_val_score(clf, X_train, y_train, cv=10, scoring='accuracy')"
   ]
  },
  {
   "cell_type": "code",
   "execution_count": null,
   "metadata": {},
   "outputs": [],
   "source": []
  }
 ],
 "metadata": {
  "kernelspec": {
   "display_name": "Python 3",
   "language": "python",
   "name": "python3"
  },
  "language_info": {
   "codemirror_mode": {
    "name": "ipython",
    "version": 3
   },
   "file_extension": ".py",
   "mimetype": "text/x-python",
   "name": "python",
   "nbconvert_exporter": "python",
   "pygments_lexer": "ipython3",
   "version": "3.5.5"
  }
 },
 "nbformat": 4,
 "nbformat_minor": 2
}
