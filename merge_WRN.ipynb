{
 "cells": [
  {
   "cell_type": "code",
   "execution_count": 1,
   "metadata": {},
   "outputs": [],
   "source": [
    "import os\n",
    "import random\n",
    "os.environ[\"CUDA_DEVICE_ORDER\"]=\"PCI_BUS_ID\"\n",
    "os.environ[\"CUDA_VISIBLE_DEVICES\"]=str(5)"
   ]
  },
  {
   "cell_type": "code",
   "execution_count": 2,
   "metadata": {},
   "outputs": [
    {
     "name": "stderr",
     "output_type": "stream",
     "text": [
      "Using TensorFlow backend.\n"
     ]
    }
   ],
   "source": [
    "import pandas as pd\n",
    "from keras.models import Model, load_model\n",
    "from keras.preprocessing.image import ImageDataGenerator"
   ]
  },
  {
   "cell_type": "code",
   "execution_count": 5,
   "metadata": {},
   "outputs": [],
   "source": [
    "import numpy as np\n",
    "import keras\n",
    "from scipy.io import loadmat\n",
    "train = loadmat('train.mat')\n",
    "test = loadmat('test.mat')\n",
    "X_train = train['X']\n",
    "y_train = train['y']\n",
    "X_test = test['X']\n",
    "X_train = X_train.astype('float32')\n",
    "X_test = X_test.astype('float32')\n",
    "X_train = X_train[np.newaxis,...]\n",
    "X_train = np.swapaxes(X_train,0,4).squeeze()\n",
    "X_test = X_test[np.newaxis,...]\n",
    "X_test = np.swapaxes(X_test,0,4).squeeze()\n",
    "\n",
    "\n",
    "np.place(y_train,y_train == 10,0)\n",
    "\n",
    "y_train = keras.utils.to_categorical(y_train, 10)\n",
    "# ================================================\n",
    "\n",
    "# Create train and test for training model\n",
    "Xtrain = X_train[1:65931]\n",
    "Ytrain = y_train[1:65931]\n",
    "Xtest = X_train[65931:]\n",
    "Ytest = y_train[65931:]"
   ]
  },
  {
   "cell_type": "code",
   "execution_count": 6,
   "metadata": {},
   "outputs": [],
   "source": [
    "datagen = ImageDataGenerator(\n",
    "    featurewise_center=True,\n",
    "    featurewise_std_normalization=True)\n",
    "datagen.fit(Xtrain, augment=True)"
   ]
  },
  {
   "cell_type": "code",
   "execution_count": 8,
   "metadata": {},
   "outputs": [
    {
     "name": "stderr",
     "output_type": "stream",
     "text": [
      "/usr/local/lib/python3.5/dist-packages/keras/engine/topology.py:1269: UserWarning: The `Merge` layer is deprecated and will be removed after 08/2017. Use instead layers from `keras.layers.merge`, e.g. `add`, `concatenate`, etc.\n",
      "  return cls(**config)\n"
     ]
    }
   ],
   "source": [
    "model1 = load_model('weights.best.wrn_52-1.hdf5')\n",
    "prob_y1 = model1.predict_generator(datagen.flow(X_test,batch_size=128, shuffle=False), workers=16, use_multiprocessing=True)"
   ]
  },
  {
   "cell_type": "code",
   "execution_count": 9,
   "metadata": {},
   "outputs": [
    {
     "name": "stderr",
     "output_type": "stream",
     "text": [
      "/usr/local/lib/python3.5/dist-packages/keras/engine/topology.py:1269: UserWarning: The `Merge` layer is deprecated and will be removed after 08/2017. Use instead layers from `keras.layers.merge`, e.g. `add`, `concatenate`, etc.\n",
      "  return cls(**config)\n"
     ]
    }
   ],
   "source": [
    "model2 = load_model('weights.best.wrn_34-2.hdf5')\n",
    "prob_y2 = model2.predict_generator(datagen.flow(X_test,batch_size=128, shuffle=False), workers=16, use_multiprocessing=True)"
   ]
  },
  {
   "cell_type": "code",
   "execution_count": null,
   "metadata": {},
   "outputs": [],
   "source": [
    "prob_all = prob_y1 + prob_y2\n",
    "pred_y = prob_all.argmax(axis=-1)\n",
    "np.place(pred_y,pred_y == 0,10)"
   ]
  },
  {
   "cell_type": "code",
   "execution_count": 20,
   "metadata": {},
   "outputs": [],
   "source": [
    "import pandas as pd\n",
    "table = pd.DataFrame()\n",
    "pred_id = list(range(1,X_test.shape[0]+1))\n",
    "table.insert(0, 'id', pred_id)\n",
    "table.insert(1, 'class', pred_y)\n",
    "table.to_csv(\"WideResnet\" + '_predictions.csv', sep=',', index=False)"
   ]
  },
  {
   "cell_type": "code",
   "execution_count": null,
   "metadata": {},
   "outputs": [],
   "source": []
  }
 ],
 "metadata": {
  "kernelspec": {
   "display_name": "Python 3",
   "language": "python",
   "name": "python3"
  },
  "language_info": {
   "codemirror_mode": {
    "name": "ipython",
    "version": 3
   },
   "file_extension": ".py",
   "mimetype": "text/x-python",
   "name": "python",
   "nbconvert_exporter": "python",
   "pygments_lexer": "ipython3",
   "version": "3.5.2"
  }
 },
 "nbformat": 4,
 "nbformat_minor": 2
}
